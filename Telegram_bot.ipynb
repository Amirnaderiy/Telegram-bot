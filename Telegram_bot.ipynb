{
  "nbformat": 4,
  "nbformat_minor": 0,
  "metadata": {
    "colab": {
      "provenance": [],
      "authorship_tag": "ABX9TyOb5BFE2oYkA+sjrIT1F2Kx",
      "include_colab_link": true
    },
    "kernelspec": {
      "name": "python3",
      "display_name": "Python 3"
    },
    "language_info": {
      "name": "python"
    }
  },
  "cells": [
    {
      "cell_type": "markdown",
      "metadata": {
        "id": "view-in-github",
        "colab_type": "text"
      },
      "source": [
        "<a href=\"https://colab.research.google.com/github/Amirnaderiy/Telegram-bot/blob/main/Telegram_bot.ipynb\" target=\"_parent\"><img src=\"https://colab.research.google.com/assets/colab-badge.svg\" alt=\"Open In Colab\"/></a>"
      ]
    },
    {
      "cell_type": "code",
      "execution_count": 17,
      "metadata": {
        "colab": {
          "base_uri": "https://localhost:8080/",
          "height": 451
        },
        "id": "Eqndw7oZjmnL",
        "outputId": "69b6ee23-f910-4979-e88e-493e4e222521"
      },
      "outputs": [
        {
          "output_type": "stream",
          "name": "stdout",
          "text": [
            "Found existing installation: python-telegram-bot 20.2\n",
            "Uninstalling python-telegram-bot-20.2:\n",
            "  Would remove:\n",
            "    /usr/local/lib/python3.10/dist-packages/python_telegram_bot-20.2.dist-info/*\n",
            "    /usr/local/lib/python3.10/dist-packages/telegram/*\n",
            "Proceed (Y/n)? Y\n",
            "  Successfully uninstalled python-telegram-bot-20.2\n",
            "Looking in indexes: https://pypi.org/simple, https://us-python.pkg.dev/colab-wheels/public/simple/\n",
            "Collecting python-telegram-bot\n",
            "  Using cached python_telegram_bot-20.2-py3-none-any.whl (535 kB)\n",
            "Requirement already satisfied: httpx~=0.23.3 in /usr/local/lib/python3.10/dist-packages (from python-telegram-bot) (0.23.3)\n",
            "Requirement already satisfied: sniffio in /usr/local/lib/python3.10/dist-packages (from httpx~=0.23.3->python-telegram-bot) (1.3.0)\n",
            "Requirement already satisfied: certifi in /usr/local/lib/python3.10/dist-packages (from httpx~=0.23.3->python-telegram-bot) (2022.12.7)\n",
            "Requirement already satisfied: httpcore<0.17.0,>=0.15.0 in /usr/local/lib/python3.10/dist-packages (from httpx~=0.23.3->python-telegram-bot) (0.16.3)\n",
            "Requirement already satisfied: rfc3986[idna2008]<2,>=1.3 in /usr/local/lib/python3.10/dist-packages (from httpx~=0.23.3->python-telegram-bot) (1.5.0)\n",
            "Requirement already satisfied: anyio<5.0,>=3.0 in /usr/local/lib/python3.10/dist-packages (from httpcore<0.17.0,>=0.15.0->httpx~=0.23.3->python-telegram-bot) (3.6.2)\n",
            "Requirement already satisfied: h11<0.15,>=0.13 in /usr/local/lib/python3.10/dist-packages (from httpcore<0.17.0,>=0.15.0->httpx~=0.23.3->python-telegram-bot) (0.14.0)\n",
            "Requirement already satisfied: idna in /usr/local/lib/python3.10/dist-packages (from rfc3986[idna2008]<2,>=1.3->httpx~=0.23.3->python-telegram-bot) (3.4)\n",
            "Installing collected packages: python-telegram-bot\n",
            "Successfully installed python-telegram-bot-20.2\n"
          ]
        },
        {
          "output_type": "display_data",
          "data": {
            "application/vnd.colab-display-data+json": {
              "pip_warning": {
                "packages": [
                  "telegram"
                ]
              }
            }
          },
          "metadata": {}
        }
      ],
      "source": [
        "# !pip install imdbpy\n",
        "# !pip install emoji\n",
        "# !pip install autocorrect\n",
        "# !pip install python-telegram-bot \n",
        "\n",
        "!pip uninstall python-telegram-bot\n",
        "!pip install python-telegram-bot --upgrade\n",
        "\n",
        "\n"
      ]
    },
    {
      "cell_type": "code",
      "source": [
        "import logging\n",
        "import telegram.ext \n",
        "\n",
        "from telegram import InlineKeyboardButton, InlineKeyboardMarkup\n",
        "from telegram.ext import ContextTypes, MessageHandler\n",
        "from telegram.ext import CommandHandler\n",
        "\n",
        "import imdb\n",
        "from emoji import emojize\n",
        "from autocorrect import Speller\n"
      ],
      "metadata": {
        "id": "YKISLK63kGDR"
      },
      "execution_count": 1,
      "outputs": []
    },
    {
      "cell_type": "code",
      "source": [
        "from telegram.ext import filters\n",
        "from telegram.ext import Updater"
      ],
      "metadata": {
        "id": "4O41IaiFoOTe"
      },
      "execution_count": 17,
      "outputs": []
    },
    {
      "cell_type": "code",
      "source": [
        "from telegram import InlineKeyboardButton, InlineKeyboardMarkup\n",
        "from telegram.ext import CallbackQueryHandler\n",
        "from telegram.ext import CallbackContext\n",
        "from queue import Queue\n",
        "from telegram import Update\n",
        "from telegram.ext import CallbackContext\n",
        "\n",
        "\n",
        "\n"
      ],
      "metadata": {
        "id": "s8CTB2Eh47VC"
      },
      "execution_count": 18,
      "outputs": []
    },
    {
      "cell_type": "code",
      "source": [
        "class TVSeriesPersianBot:\n",
        "    def __init__(self, token):\n",
        "        self.updater = Updater(token, use_context=True)\n",
        "        self.dispatcher = self.updater.dispatcher\n",
        "        \n",
        "        # Add handlers for commands and messages\n",
        "        self.dispatcher.add_handler(CommandHandler(\"start\", self.start))\n",
        "        self.dispatcher.add_handler(CommandHandler(\"help\", self.help))\n",
        "        self.dispatcher.add_handler(CommandHandler(\"search\", self.search))\n",
        "        self.dispatcher.add_handler(MessageHandler(Filters.text, self.handle_message))\n",
        "        self.dispatcher.add_handler(CallbackQueryHandler(self.button_callback))\n",
        "        \n",
        "        # Start the bot\n",
        "        self.updater.start_polling()\n",
        "\n",
        "    def start(self, update: Update, context: CallbackContext):\n",
        "        # Send the welcome message and menu\n",
        "        text = \"به بات خوره های سریال خوش اومدید!\\n\\n\"\\\n",
        "               \"#دانلود_سریال 📺\\n\"\\\n",
        "               \"#دانلود_فیلم 🎞\\n\"\\\n",
        "               \"#دانلود_انیمیشن 🧸\\n\"\\\n",
        "               \"#دانلود_مستند 🌱\\n\\n\"\\\n",
        "               \"یک گزینه را انتخاب کنید:\"\n",
        "        keyboard = [[InlineKeyboardButton(\"پیشنهاد یا انتقاد\", callback_data='2')],\n",
        "                    [InlineKeyboardButton(\"درخواست فیلم یا سریال\", callback_data='3')],\n",
        "                    [InlineKeyboardButton(\"عضویت در کانال و پیج اینستاگرام\", callback_data='4')],\n",
        "                    [InlineKeyboardButton(\"قطع ارتباط\", callback_data='5')]]\n",
        "        reply_markup = InlineKeyboardMarkup(keyboard)\n",
        "        context.bot.send_message(chat_id=update.effective_chat.id, text=text, reply_markup=reply_markup)\n",
        "\n",
        "    def help(self, update: Update, context: CallbackContext):\n",
        "        context.bot.send_message(chat_id=update.effective_chat.id,\n",
        "                                 text=\"این ربات به شما اجازه می دهد تا فیلم ها و سریال های خود را به زبان فارسی بیابید.\")\n",
        "\n",
        "    def search(self, update: Update, context: CallbackContext):\n",
        "        context.bot.send_message(chat_id=update.effective_chat.id, text=\"جستجوی سریال...\")\n",
        "\n",
        "    def handle_message(self, update: Update, context: CallbackContext):\n",
        "        context.bot.send_message(chat_id=update.effective_chat.id,\n",
        "                                 text=\"لطفا یک گزینه را از لیست انتخاب کنید.\")\n",
        "\n",
        "    def button_callback(self, update: Update, context: CallbackContext):\n",
        "        query = update.callback_query\n",
        "        chat_id = query.message.chat_id\n",
        "        query.answer()\n",
        "\n",
        "        if query.data == '2':\n",
        "            # Send message for option 2\n",
        "            message = \"اگه پیشنهاد یا انتقادی در مورد پیج، کانال یا رباتمون داری اینجا برام بنویس\"\n",
        "            context.bot.send_message(chat_id=chat_id, text=message)\n",
        "\n",
        "        elif query.data == '3':\n",
        "            # Send message for option 3\n",
        "            message = \"اگه درخواست فیلم یا سریالی داری اینجا برام بنویس\"\n",
        "            context.bot.send_message(chat_id=chat_id, text=message)\n",
        "      \n",
        "        elif query.data == '4':\n",
        "          # Send message for option 4\n",
        "           message = \"❤️ با عضویت در کانال و پیج اینستاگراممون میتونید از جدیدترین اخبار و حاشیه‌های دنیای سریال باخبر بشی و سریالا و فیلمای مورد علاقه‌ت رو به صورت رایگان دانلود کنی \"\n",
        "           self.send_message(chat_id, message)\n",
        "      \n",
        "        elif query.data == '5':\n",
        "          # Stop the bot\n",
        "           message = \"بات متوقف شد.\"\n",
        "           self.send_message(chat_id, message)\n",
        "           self.stop()\n",
        "\n",
        "        else:\n",
        "        # Handle other options\n",
        "           pass\n",
        "\n",
        "        # Send message to admin\n",
        "        admin_chat_id = \"@amirnaderiy\" # Replace with the username of the admin account\n",
        "        message = f\"New message from {query.message.chat_id}: {message}\"\n",
        "        self.send_message(admin_chat_id, message)\n",
        "\n",
        "        def stop(self):\n",
        "          self.updater.stop()\n",
        "\n",
        "        def send_message(self, chat_id, message):\n",
        "          self.updater.bot.send_message(chat_id=chat_id, text=message)\n",
        "\n",
        "\n",
        "if __name__ == '__main__':\n",
        "    bot_token = \"6186938893:AAG2DC375_esINgx2LaHCTGxk8a1F67BlLs\"\n",
        "    tv_series_persian_bot = TVSeriesPersianBot(bot_token)\n"
      ],
      "metadata": {
        "colab": {
          "base_uri": "https://localhost:8080/",
          "height": 322
        },
        "id": "2asUomhOneT8",
        "outputId": "43c2fdd2-2e2a-4266-d681-8bc156915b40"
      },
      "execution_count": 21,
      "outputs": [
        {
          "output_type": "error",
          "ename": "TypeError",
          "evalue": "ignored",
          "traceback": [
            "\u001b[0;31m---------------------------------------------------------------------------\u001b[0m",
            "\u001b[0;31mTypeError\u001b[0m                                 Traceback (most recent call last)",
            "\u001b[0;32m<ipython-input-21-8c3432058984>\u001b[0m in \u001b[0;36m<cell line: 84>\u001b[0;34m()\u001b[0m\n\u001b[1;32m     84\u001b[0m \u001b[0;32mif\u001b[0m \u001b[0m__name__\u001b[0m \u001b[0;34m==\u001b[0m \u001b[0;34m'__main__'\u001b[0m\u001b[0;34m:\u001b[0m\u001b[0;34m\u001b[0m\u001b[0;34m\u001b[0m\u001b[0m\n\u001b[1;32m     85\u001b[0m     \u001b[0mbot_token\u001b[0m \u001b[0;34m=\u001b[0m \u001b[0;34m\"6186938893:AAG2DC375_esINgx2LaHCTGxk8a1F67BlLs\"\u001b[0m\u001b[0;34m\u001b[0m\u001b[0;34m\u001b[0m\u001b[0m\n\u001b[0;32m---> 86\u001b[0;31m     \u001b[0mtv_series_persian_bot\u001b[0m \u001b[0;34m=\u001b[0m \u001b[0mTVSeriesPersianBot\u001b[0m\u001b[0;34m(\u001b[0m\u001b[0mbot_token\u001b[0m\u001b[0;34m)\u001b[0m\u001b[0;34m\u001b[0m\u001b[0;34m\u001b[0m\u001b[0m\n\u001b[0m",
            "\u001b[0;32m<ipython-input-21-8c3432058984>\u001b[0m in \u001b[0;36m__init__\u001b[0;34m(self, token)\u001b[0m\n\u001b[1;32m      1\u001b[0m \u001b[0;32mclass\u001b[0m \u001b[0mTVSeriesPersianBot\u001b[0m\u001b[0;34m:\u001b[0m\u001b[0;34m\u001b[0m\u001b[0;34m\u001b[0m\u001b[0m\n\u001b[1;32m      2\u001b[0m     \u001b[0;32mdef\u001b[0m \u001b[0m__init__\u001b[0m\u001b[0;34m(\u001b[0m\u001b[0mself\u001b[0m\u001b[0;34m,\u001b[0m \u001b[0mtoken\u001b[0m\u001b[0;34m)\u001b[0m\u001b[0;34m:\u001b[0m\u001b[0;34m\u001b[0m\u001b[0;34m\u001b[0m\u001b[0m\n\u001b[0;32m----> 3\u001b[0;31m         \u001b[0mself\u001b[0m\u001b[0;34m.\u001b[0m\u001b[0mupdater\u001b[0m \u001b[0;34m=\u001b[0m \u001b[0mUpdater\u001b[0m\u001b[0;34m(\u001b[0m\u001b[0mtoken\u001b[0m\u001b[0;34m,\u001b[0m \u001b[0muse_context\u001b[0m\u001b[0;34m=\u001b[0m\u001b[0;32mTrue\u001b[0m\u001b[0;34m)\u001b[0m\u001b[0;34m\u001b[0m\u001b[0;34m\u001b[0m\u001b[0m\n\u001b[0m\u001b[1;32m      4\u001b[0m         \u001b[0mself\u001b[0m\u001b[0;34m.\u001b[0m\u001b[0mdispatcher\u001b[0m \u001b[0;34m=\u001b[0m \u001b[0mself\u001b[0m\u001b[0;34m.\u001b[0m\u001b[0mupdater\u001b[0m\u001b[0;34m.\u001b[0m\u001b[0mdispatcher\u001b[0m\u001b[0;34m\u001b[0m\u001b[0;34m\u001b[0m\u001b[0m\n\u001b[1;32m      5\u001b[0m \u001b[0;34m\u001b[0m\u001b[0m\n",
            "\u001b[0;31mTypeError\u001b[0m: Updater.__init__() got an unexpected keyword argument 'use_context'"
          ]
        }
      ]
    },
    {
      "cell_type": "code",
      "source": [],
      "metadata": {
        "id": "GzHAzqHY_9Vu"
      },
      "execution_count": null,
      "outputs": []
    }
  ]
}