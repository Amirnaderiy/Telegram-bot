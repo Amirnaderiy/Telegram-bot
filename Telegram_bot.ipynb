{
  "nbformat": 4,
  "nbformat_minor": 0,
  "metadata": {
    "colab": {
      "provenance": [],
      "authorship_tag": "ABX9TyMYEJZQmX9glQ+UgXXMls9N",
      "include_colab_link": true
    },
    "kernelspec": {
      "name": "python3",
      "display_name": "Python 3"
    },
    "language_info": {
      "name": "python"
    }
  },
  "cells": [
    {
      "cell_type": "markdown",
      "metadata": {
        "id": "view-in-github",
        "colab_type": "text"
      },
      "source": [
        "<a href=\"https://colab.research.google.com/github/Amirnaderiy/Telegram-bot/blob/main/Telegram_bot.ipynb\" target=\"_parent\"><img src=\"https://colab.research.google.com/assets/colab-badge.svg\" alt=\"Open In Colab\"/></a>"
      ]
    },
    {
      "cell_type": "code",
      "execution_count": 53,
      "metadata": {
        "colab": {
          "base_uri": "https://localhost:8080/"
        },
        "id": "Eqndw7oZjmnL",
        "outputId": "56b5ec2a-bd5d-4d33-968a-951bb36d82e2"
      },
      "outputs": [
        {
          "output_type": "stream",
          "name": "stdout",
          "text": [
            "Looking in indexes: https://pypi.org/simple, https://us-python.pkg.dev/colab-wheels/public/simple/\n",
            "Requirement already satisfied: imdbpy in /usr/local/lib/python3.10/dist-packages (2022.7.9)\n",
            "Requirement already satisfied: cinemagoer in /usr/local/lib/python3.10/dist-packages (from imdbpy) (2022.12.27)\n",
            "Requirement already satisfied: SQLAlchemy in /usr/local/lib/python3.10/dist-packages (from cinemagoer->imdbpy) (2.0.10)\n",
            "Requirement already satisfied: lxml in /usr/local/lib/python3.10/dist-packages (from cinemagoer->imdbpy) (4.9.2)\n",
            "Requirement already satisfied: greenlet!=0.4.17 in /usr/local/lib/python3.10/dist-packages (from SQLAlchemy->cinemagoer->imdbpy) (2.0.2)\n",
            "Requirement already satisfied: typing-extensions>=4.2.0 in /usr/local/lib/python3.10/dist-packages (from SQLAlchemy->cinemagoer->imdbpy) (4.5.0)\n"
          ]
        },
        {
          "output_type": "stream",
          "name": "stderr",
          "text": [
            "ERROR:telegram.ext.updater:Error while getting Updates: Conflict: terminated by other getUpdates request; make sure that only one bot instance is running\n",
            "ERROR:telegram.ext.dispatcher:No error handlers are registered, logging exception.\n",
            "Traceback (most recent call last):\n",
            "  File \"/usr/local/lib/python3.10/dist-packages/telegram/ext/updater.py\", line 646, in _network_loop_retry\n",
            "    if not action_cb():\n",
            "  File \"/usr/local/lib/python3.10/dist-packages/telegram/ext/updater.py\", line 597, in polling_action_cb\n",
            "    updates = self.bot.get_updates(\n",
            "  File \"/usr/local/lib/python3.10/dist-packages/telegram/ext/extbot.py\", line 222, in get_updates\n",
            "    updates = super().get_updates(\n",
            "  File \"/usr/local/lib/python3.10/dist-packages/telegram/bot.py\", line 130, in decorator\n",
            "    result = func(*args, **kwargs)\n",
            "  File \"/usr/local/lib/python3.10/dist-packages/telegram/bot.py\", line 2861, in get_updates\n",
            "    self._post(\n",
            "  File \"/usr/local/lib/python3.10/dist-packages/telegram/bot.py\", line 295, in _post\n",
            "    return self.request.post(\n",
            "  File \"/usr/local/lib/python3.10/dist-packages/telegram/utils/request.py\", line 356, in post\n",
            "    result = self._request_wrapper(\n",
            "  File \"/usr/local/lib/python3.10/dist-packages/telegram/utils/request.py\", line 283, in _request_wrapper\n",
            "    raise Conflict(message)\n",
            "telegram.error.Conflict: Conflict: terminated by other getUpdates request; make sure that only one bot instance is running\n",
            "ERROR:telegram.ext.updater:Error while getting Updates: Conflict: terminated by other getUpdates request; make sure that only one bot instance is running\n",
            "ERROR:telegram.ext.dispatcher:No error handlers are registered, logging exception.\n",
            "Traceback (most recent call last):\n",
            "  File \"/usr/local/lib/python3.10/dist-packages/telegram/ext/updater.py\", line 646, in _network_loop_retry\n",
            "    if not action_cb():\n",
            "  File \"/usr/local/lib/python3.10/dist-packages/telegram/ext/updater.py\", line 597, in polling_action_cb\n",
            "    updates = self.bot.get_updates(\n",
            "  File \"/usr/local/lib/python3.10/dist-packages/telegram/ext/extbot.py\", line 222, in get_updates\n",
            "    updates = super().get_updates(\n",
            "  File \"/usr/local/lib/python3.10/dist-packages/telegram/bot.py\", line 130, in decorator\n",
            "    result = func(*args, **kwargs)\n",
            "  File \"/usr/local/lib/python3.10/dist-packages/telegram/bot.py\", line 2861, in get_updates\n",
            "    self._post(\n",
            "  File \"/usr/local/lib/python3.10/dist-packages/telegram/bot.py\", line 295, in _post\n",
            "    return self.request.post(\n",
            "  File \"/usr/local/lib/python3.10/dist-packages/telegram/utils/request.py\", line 356, in post\n",
            "    result = self._request_wrapper(\n",
            "  File \"/usr/local/lib/python3.10/dist-packages/telegram/utils/request.py\", line 283, in _request_wrapper\n",
            "    raise Conflict(message)\n",
            "telegram.error.Conflict: Conflict: terminated by other getUpdates request; make sure that only one bot instance is running\n"
          ]
        },
        {
          "output_type": "stream",
          "name": "stdout",
          "text": [
            "Looking in indexes: https://pypi.org/simple, https://us-python.pkg.dev/colab-wheels/public/simple/\n",
            "Requirement already satisfied: emoji in /usr/local/lib/python3.10/dist-packages (2.2.0)\n"
          ]
        },
        {
          "output_type": "stream",
          "name": "stderr",
          "text": [
            "ERROR:telegram.ext.updater:Error while getting Updates: Conflict: terminated by other getUpdates request; make sure that only one bot instance is running\n",
            "ERROR:telegram.ext.dispatcher:No error handlers are registered, logging exception.\n",
            "Traceback (most recent call last):\n",
            "  File \"/usr/local/lib/python3.10/dist-packages/telegram/ext/updater.py\", line 646, in _network_loop_retry\n",
            "    if not action_cb():\n",
            "  File \"/usr/local/lib/python3.10/dist-packages/telegram/ext/updater.py\", line 597, in polling_action_cb\n",
            "    updates = self.bot.get_updates(\n",
            "  File \"/usr/local/lib/python3.10/dist-packages/telegram/ext/extbot.py\", line 222, in get_updates\n",
            "    updates = super().get_updates(\n",
            "  File \"/usr/local/lib/python3.10/dist-packages/telegram/bot.py\", line 130, in decorator\n",
            "    result = func(*args, **kwargs)\n",
            "  File \"/usr/local/lib/python3.10/dist-packages/telegram/bot.py\", line 2861, in get_updates\n",
            "    self._post(\n",
            "  File \"/usr/local/lib/python3.10/dist-packages/telegram/bot.py\", line 295, in _post\n",
            "    return self.request.post(\n",
            "  File \"/usr/local/lib/python3.10/dist-packages/telegram/utils/request.py\", line 356, in post\n",
            "    result = self._request_wrapper(\n",
            "  File \"/usr/local/lib/python3.10/dist-packages/telegram/utils/request.py\", line 283, in _request_wrapper\n",
            "    raise Conflict(message)\n",
            "telegram.error.Conflict: Conflict: terminated by other getUpdates request; make sure that only one bot instance is running\n",
            "ERROR:telegram.ext.updater:Error while getting Updates: Conflict: terminated by other getUpdates request; make sure that only one bot instance is running\n",
            "ERROR:telegram.ext.dispatcher:No error handlers are registered, logging exception.\n",
            "Traceback (most recent call last):\n",
            "  File \"/usr/local/lib/python3.10/dist-packages/telegram/ext/updater.py\", line 646, in _network_loop_retry\n",
            "    if not action_cb():\n",
            "  File \"/usr/local/lib/python3.10/dist-packages/telegram/ext/updater.py\", line 597, in polling_action_cb\n",
            "    updates = self.bot.get_updates(\n",
            "  File \"/usr/local/lib/python3.10/dist-packages/telegram/ext/extbot.py\", line 222, in get_updates\n",
            "    updates = super().get_updates(\n",
            "  File \"/usr/local/lib/python3.10/dist-packages/telegram/bot.py\", line 130, in decorator\n",
            "    result = func(*args, **kwargs)\n",
            "  File \"/usr/local/lib/python3.10/dist-packages/telegram/bot.py\", line 2861, in get_updates\n",
            "    self._post(\n",
            "  File \"/usr/local/lib/python3.10/dist-packages/telegram/bot.py\", line 295, in _post\n",
            "    return self.request.post(\n",
            "  File \"/usr/local/lib/python3.10/dist-packages/telegram/utils/request.py\", line 356, in post\n",
            "    result = self._request_wrapper(\n",
            "  File \"/usr/local/lib/python3.10/dist-packages/telegram/utils/request.py\", line 283, in _request_wrapper\n",
            "    raise Conflict(message)\n",
            "telegram.error.Conflict: Conflict: terminated by other getUpdates request; make sure that only one bot instance is running\n",
            "ERROR:telegram.ext.updater:Error while getting Updates: Conflict: terminated by other getUpdates request; make sure that only one bot instance is running\n",
            "ERROR:telegram.ext.dispatcher:No error handlers are registered, logging exception.\n",
            "Traceback (most recent call last):\n",
            "  File \"/usr/local/lib/python3.10/dist-packages/telegram/ext/updater.py\", line 646, in _network_loop_retry\n",
            "    if not action_cb():\n",
            "  File \"/usr/local/lib/python3.10/dist-packages/telegram/ext/updater.py\", line 597, in polling_action_cb\n",
            "    updates = self.bot.get_updates(\n",
            "  File \"/usr/local/lib/python3.10/dist-packages/telegram/ext/extbot.py\", line 222, in get_updates\n",
            "    updates = super().get_updates(\n",
            "  File \"/usr/local/lib/python3.10/dist-packages/telegram/bot.py\", line 130, in decorator\n",
            "    result = func(*args, **kwargs)\n",
            "  File \"/usr/local/lib/python3.10/dist-packages/telegram/bot.py\", line 2861, in get_updates\n",
            "    self._post(\n",
            "  File \"/usr/local/lib/python3.10/dist-packages/telegram/bot.py\", line 295, in _post\n",
            "    return self.request.post(\n",
            "  File \"/usr/local/lib/python3.10/dist-packages/telegram/utils/request.py\", line 356, in post\n",
            "    result = self._request_wrapper(\n",
            "  File \"/usr/local/lib/python3.10/dist-packages/telegram/utils/request.py\", line 283, in _request_wrapper\n",
            "    raise Conflict(message)\n",
            "telegram.error.Conflict: Conflict: terminated by other getUpdates request; make sure that only one bot instance is running\n"
          ]
        },
        {
          "output_type": "stream",
          "name": "stdout",
          "text": [
            "Looking in indexes: https://pypi.org/simple, https://us-python.pkg.dev/colab-wheels/public/simple/\n",
            "Collecting autocorrect\n",
            "  Downloading autocorrect-2.6.1.tar.gz (622 kB)\n",
            "\u001b[2K     \u001b[90m━━━━━━━━━━━━━━━━━━━━━━━━━━━━━━━━━━━━━━━\u001b[0m \u001b[32m622.8/622.8 kB\u001b[0m \u001b[31m9.5 MB/s\u001b[0m eta \u001b[36m0:00:00\u001b[0m\n",
            "\u001b[?25h  Preparing metadata (setup.py) ... \u001b[?25l\u001b[?25hdone\n",
            "Building wheels for collected packages: autocorrect\n",
            "  Building wheel for autocorrect (setup.py) ... \u001b[?25l\u001b[?25hdone\n",
            "  Created wheel for autocorrect: filename=autocorrect-2.6.1-py3-none-any.whl size=622380 sha256=b2e7fc478b7a9a5cfbe6a2c33049176cb5a962dc6380aac0c3489561bd1c5472\n",
            "  Stored in directory: /root/.cache/pip/wheels/b5/7b/6d/b76b29ce11ff8e2521c8c7dd0e5bfee4fb1789d76193124343\n",
            "Successfully built autocorrect\n"
          ]
        },
        {
          "output_type": "stream",
          "name": "stderr",
          "text": [
            "ERROR:telegram.ext.updater:Error while getting Updates: Conflict: terminated by other getUpdates request; make sure that only one bot instance is running\n",
            "ERROR:telegram.ext.dispatcher:No error handlers are registered, logging exception.\n",
            "Traceback (most recent call last):\n",
            "  File \"/usr/local/lib/python3.10/dist-packages/telegram/ext/updater.py\", line 646, in _network_loop_retry\n",
            "    if not action_cb():\n",
            "  File \"/usr/local/lib/python3.10/dist-packages/telegram/ext/updater.py\", line 597, in polling_action_cb\n",
            "    updates = self.bot.get_updates(\n",
            "  File \"/usr/local/lib/python3.10/dist-packages/telegram/ext/extbot.py\", line 222, in get_updates\n",
            "    updates = super().get_updates(\n",
            "  File \"/usr/local/lib/python3.10/dist-packages/telegram/bot.py\", line 130, in decorator\n",
            "    result = func(*args, **kwargs)\n",
            "  File \"/usr/local/lib/python3.10/dist-packages/telegram/bot.py\", line 2861, in get_updates\n",
            "    self._post(\n",
            "  File \"/usr/local/lib/python3.10/dist-packages/telegram/bot.py\", line 295, in _post\n",
            "    return self.request.post(\n",
            "  File \"/usr/local/lib/python3.10/dist-packages/telegram/utils/request.py\", line 356, in post\n",
            "    result = self._request_wrapper(\n",
            "  File \"/usr/local/lib/python3.10/dist-packages/telegram/utils/request.py\", line 283, in _request_wrapper\n",
            "    raise Conflict(message)\n",
            "telegram.error.Conflict: Conflict: terminated by other getUpdates request; make sure that only one bot instance is running\n",
            "ERROR:telegram.ext.updater:Error while getting Updates: Conflict: terminated by other getUpdates request; make sure that only one bot instance is running\n",
            "ERROR:telegram.ext.dispatcher:No error handlers are registered, logging exception.\n",
            "Traceback (most recent call last):\n",
            "  File \"/usr/local/lib/python3.10/dist-packages/telegram/ext/updater.py\", line 646, in _network_loop_retry\n",
            "    if not action_cb():\n",
            "  File \"/usr/local/lib/python3.10/dist-packages/telegram/ext/updater.py\", line 597, in polling_action_cb\n",
            "    updates = self.bot.get_updates(\n",
            "  File \"/usr/local/lib/python3.10/dist-packages/telegram/ext/extbot.py\", line 222, in get_updates\n",
            "    updates = super().get_updates(\n",
            "  File \"/usr/local/lib/python3.10/dist-packages/telegram/bot.py\", line 130, in decorator\n",
            "    result = func(*args, **kwargs)\n",
            "  File \"/usr/local/lib/python3.10/dist-packages/telegram/bot.py\", line 2861, in get_updates\n",
            "    self._post(\n",
            "  File \"/usr/local/lib/python3.10/dist-packages/telegram/bot.py\", line 295, in _post\n",
            "    return self.request.post(\n",
            "  File \"/usr/local/lib/python3.10/dist-packages/telegram/utils/request.py\", line 356, in post\n",
            "    result = self._request_wrapper(\n",
            "  File \"/usr/local/lib/python3.10/dist-packages/telegram/utils/request.py\", line 283, in _request_wrapper\n",
            "    raise Conflict(message)\n",
            "telegram.error.Conflict: Conflict: terminated by other getUpdates request; make sure that only one bot instance is running\n"
          ]
        },
        {
          "output_type": "stream",
          "name": "stdout",
          "text": [
            "Installing collected packages: autocorrect\n",
            "Successfully installed autocorrect-2.6.1\n"
          ]
        }
      ],
      "source": [
        "!pip install imdbpy\n",
        "!pip install emoji\n",
        "!pip install autocorrect\n",
        "\n",
        "\n"
      ]
    },
    {
      "cell_type": "code",
      "source": [
        "import logging\n",
        "import telegram.ext \n",
        "\n",
        "from telegram import InlineKeyboardButton, InlineKeyboardMarkup\n",
        "from telegram.ext import ContextTypes, MessageHandler\n",
        "from telegram.ext import CommandHandler\n",
        "\n",
        "import imdb\n",
        "from emoji import emojize\n",
        "from autocorrect import Speller\n"
      ],
      "metadata": {
        "id": "YKISLK63kGDR"
      },
      "execution_count": 54,
      "outputs": []
    },
    {
      "cell_type": "code",
      "source": [
        "from telegram.ext import filters\n",
        "from telegram.ext import Updater"
      ],
      "metadata": {
        "id": "4O41IaiFoOTe"
      },
      "execution_count": null,
      "outputs": []
    },
    {
      "cell_type": "code",
      "source": [
        "from telegram import InlineKeyboardButton, InlineKeyboardMarkup, Update\n",
        "from telegram.ext import CallbackQueryHandler\n",
        "from telegram.ext import CallbackContext"
      ],
      "metadata": {
        "id": "s8CTB2Eh47VC"
      },
      "execution_count": null,
      "outputs": []
    },
    {
      "cell_type": "code",
      "source": [
        "class TVSeriesPersianBot:\n",
        "    def __init__(self, token):\n",
        "        self.updater = Updater(token)\n",
        "        self.dispatcher = self.updater.dispatcher\n",
        "        logging.basicConfig(format='%(asctime)s - %(name)s - %(levelname)s - %(message)s',\n",
        "                            level=logging.INFO)\n",
        "\n",
        "        # Add handlers for commands and messages\n",
        "        self.dispatcher.add_handler(CommandHandler(\"start\", self.start))\n",
        "        self.dispatcher.add_handler(CommandHandler(\"help\", self.help))\n",
        "        self.dispatcher.add_handler(MessageHandler(filters.Filters.text, self.handle_message))\n",
        "\n",
        "        # Add handler for inline keyboards\n",
        "        self.dispatcher.add_handler(CallbackQueryHandler(self.button_callback))\n",
        "\n",
        "        # Start the bot\n",
        "        self.updater.start_polling()\n",
        "\n",
        "    def start(self, update: Update, context: CallbackContext):\n",
        "        # Send the welcome message and menu\n",
        "        context.bot.send_message(chat_id=update.effective_chat.id,\n",
        "                                 text=\"به بات خوره های سریال خوش اومدید!\\n\\n\"\n",
        "                                      \"#دانلود_سریال 📺\\n\"\n",
        "                                      \"#دانلود_فیلم 🎞\\n\"\n",
        "                                      \"#دانلود_انیمیشن 🧸\\n\"\n",
        "                                      \"#دانلود_مستند 🌱\\n\\n\"\n",
        "                                      \"یک گزینه را انتخاب کنید:\",\n",
        "                                 reply_markup=self.get_main_menu())\n",
        "\n",
        "    def help(self, update: Update, context: CallbackContext):\n",
        "        context.bot.send_message(chat_id=update.effective_chat.id,\n",
        "                                 text=\"این ربات به شما اجازه می دهد تا فیلم ها و سریال های خود را به زبان فارسی بیابید.\")\n",
        "\n",
        "    def handle_message(self, update: Update, context: CallbackContext):\n",
        "        context.bot.send_message(chat_id=update.effective_chat.id,\n",
        "                                 text=\"لطفا یک گزینه را از لیست انتخاب کنید.\")\n",
        "\n",
        "    def button_callback(self, update: Update, context: CallbackContext):\n",
        "        query = update.callback_query\n",
        "        chat_id = query.message.chat_id\n",
        "        query.answer()\n",
        "\n",
        "        if query.data == '2':\n",
        "            # Send message for option 2\n",
        "            message = \"اگه پیشنهاد یا انتقادی در مورد پیج، کانال یا رباتمون داری اینجا برام بنویس\"\n",
        "            context.bot.send_message(chat_id=chat_id, text=message)\n",
        "\n",
        "        elif query.data == '3':\n",
        "            # Send message for option 3\n",
        "            message = \"اگه درخواست فیلم یا سریالی داری اینجا برام بنویس\"\n",
        "            context.bot.send_message(chat_id=chat_id, text=message)\n",
        "      \n",
        "        elif query.data == '4':\n",
        "          # Send message for option 4\n",
        "           message = \"❤️ با عضویت در کانال و پیج اینستاگراممون میتونید از جدیدترین اخبار و حاشیه‌های دنیای سریال باخبر بشی و سریالا و فیلمای مورد علاقه‌ت رو به صورت رایگان دانلود کنی \"\n",
        "           self.send_message(chat_id, message)\n",
        "      \n",
        "        elif query.data == '5':\n",
        "          # Stop the bot\n",
        "           message = \"بات متوقف شد.\"\n",
        "           self.send_message(chat_id, message)\n",
        "           self.stop()\n",
        "\n",
        "        else:\n",
        "        # Handle other options\n",
        "           pass\n",
        "\n",
        "        # Send message to admin\n",
        "        admin_chat_id = \"@amirnaderiy\" # Replace with the username of the admin account\n",
        "        message = f\"New message from {query.message.chat_id}: {message}\"\n",
        "        self.send_message(admin_chat_id, message)\n",
        "\n",
        "        def stop(self):\n",
        "          self.updater.stop()\n",
        "\n",
        "        def send_message(self, chat_id, message):\n",
        "          self.updater.bot.send_message(chat_id=chat_id, text=message)\n",
        "\n",
        "\n",
        "if __name__ == '__main__':\n",
        "    bot_token = \"6186938893:AAG2DC375_esINgx2LaHCTGxk8a1F67BlLs\"\n",
        "    tv_series_persian_bot = TVSeriesPersianBot(bot_token)\n",
        "\n",
        "\n",
        "    "
      ],
      "metadata": {
        "colab": {
          "base_uri": "https://localhost:8080/"
        },
        "id": "2asUomhOneT8",
        "outputId": "83d142d0-69e7-4bd3-e57a-5aa33ed8e37b"
      },
      "execution_count": 44,
      "outputs": [
        {
          "output_type": "stream",
          "name": "stderr",
          "text": [
            "ERROR:telegram.ext.updater:Error while getting Updates: Conflict: terminated by other getUpdates request; make sure that only one bot instance is running\n",
            "ERROR:telegram.ext.dispatcher:No error handlers are registered, logging exception.\n",
            "Traceback (most recent call last):\n",
            "  File \"/usr/local/lib/python3.10/dist-packages/telegram/ext/updater.py\", line 646, in _network_loop_retry\n",
            "    if not action_cb():\n",
            "  File \"/usr/local/lib/python3.10/dist-packages/telegram/ext/updater.py\", line 597, in polling_action_cb\n",
            "    updates = self.bot.get_updates(\n",
            "  File \"/usr/local/lib/python3.10/dist-packages/telegram/ext/extbot.py\", line 222, in get_updates\n",
            "    updates = super().get_updates(\n",
            "  File \"/usr/local/lib/python3.10/dist-packages/telegram/bot.py\", line 130, in decorator\n",
            "    result = func(*args, **kwargs)\n",
            "  File \"/usr/local/lib/python3.10/dist-packages/telegram/bot.py\", line 2861, in get_updates\n",
            "    self._post(\n",
            "  File \"/usr/local/lib/python3.10/dist-packages/telegram/bot.py\", line 295, in _post\n",
            "    return self.request.post(\n",
            "  File \"/usr/local/lib/python3.10/dist-packages/telegram/utils/request.py\", line 356, in post\n",
            "    result = self._request_wrapper(\n",
            "  File \"/usr/local/lib/python3.10/dist-packages/telegram/utils/request.py\", line 283, in _request_wrapper\n",
            "    raise Conflict(message)\n",
            "telegram.error.Conflict: Conflict: terminated by other getUpdates request; make sure that only one bot instance is running\n"
          ]
        }
      ]
    },
    {
      "cell_type": "code",
      "source": [],
      "metadata": {
        "id": "GzHAzqHY_9Vu"
      },
      "execution_count": null,
      "outputs": []
    }
  ]
}