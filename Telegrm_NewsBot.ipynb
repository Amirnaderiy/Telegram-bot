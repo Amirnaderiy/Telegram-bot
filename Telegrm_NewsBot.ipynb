{
  "nbformat": 4,
  "nbformat_minor": 0,
  "metadata": {
    "colab": {
      "provenance": [],
      "authorship_tag": "ABX9TyMjEa4ZYaN+tigLIqg9CeFp",
      "include_colab_link": true
    },
    "kernelspec": {
      "name": "python3",
      "display_name": "Python 3"
    },
    "language_info": {
      "name": "python"
    }
  },
  "cells": [
    {
      "cell_type": "markdown",
      "metadata": {
        "id": "view-in-github",
        "colab_type": "text"
      },
      "source": [
        "<a href=\"https://colab.research.google.com/github/Amirnaderiy/Telegram-bot/blob/main/Telegrm_NewsBot.ipynb\" target=\"_parent\"><img src=\"https://colab.research.google.com/assets/colab-badge.svg\" alt=\"Open In Colab\"/></a>"
      ]
    },
    {
      "cell_type": "code",
      "source": [
        "!pip install python-telegram-bot==13.7 requests beautifulsoup4 transformers torch nest-asyncio\n"
      ],
      "metadata": {
        "colab": {
          "base_uri": "https://localhost:8080/"
        },
        "id": "mWwyfD1AWDdw",
        "outputId": "f523005f-6674-4108-c7b0-9b4f01cd7a39"
      },
      "execution_count": 5,
      "outputs": [
        {
          "output_type": "stream",
          "name": "stdout",
          "text": [
            "Requirement already satisfied: python-telegram-bot==13.7 in /usr/local/lib/python3.10/dist-packages (13.7)\n",
            "Requirement already satisfied: requests in /usr/local/lib/python3.10/dist-packages (2.31.0)\n",
            "Requirement already satisfied: beautifulsoup4 in /usr/local/lib/python3.10/dist-packages (4.12.3)\n",
            "Requirement already satisfied: transformers in /usr/local/lib/python3.10/dist-packages (4.41.2)\n",
            "Requirement already satisfied: torch in /usr/local/lib/python3.10/dist-packages (2.3.0+cu121)\n",
            "Requirement already satisfied: nest-asyncio in /usr/local/lib/python3.10/dist-packages (1.6.0)\n",
            "Requirement already satisfied: certifi in /usr/local/lib/python3.10/dist-packages (from python-telegram-bot==13.7) (2024.7.4)\n",
            "Requirement already satisfied: tornado>=6.1 in /usr/local/lib/python3.10/dist-packages (from python-telegram-bot==13.7) (6.3.3)\n",
            "Requirement already satisfied: APScheduler==3.6.3 in /usr/local/lib/python3.10/dist-packages (from python-telegram-bot==13.7) (3.6.3)\n",
            "Requirement already satisfied: pytz>=2018.6 in /usr/local/lib/python3.10/dist-packages (from python-telegram-bot==13.7) (2023.4)\n",
            "Requirement already satisfied: cachetools==4.2.2 in /usr/local/lib/python3.10/dist-packages (from python-telegram-bot==13.7) (4.2.2)\n",
            "Requirement already satisfied: setuptools>=0.7 in /usr/local/lib/python3.10/dist-packages (from APScheduler==3.6.3->python-telegram-bot==13.7) (67.7.2)\n",
            "Requirement already satisfied: six>=1.4.0 in /usr/local/lib/python3.10/dist-packages (from APScheduler==3.6.3->python-telegram-bot==13.7) (1.16.0)\n",
            "Requirement already satisfied: tzlocal>=1.2 in /usr/local/lib/python3.10/dist-packages (from APScheduler==3.6.3->python-telegram-bot==13.7) (5.2)\n",
            "Requirement already satisfied: charset-normalizer<4,>=2 in /usr/local/lib/python3.10/dist-packages (from requests) (3.3.2)\n",
            "Requirement already satisfied: idna<4,>=2.5 in /usr/local/lib/python3.10/dist-packages (from requests) (3.7)\n",
            "Requirement already satisfied: urllib3<3,>=1.21.1 in /usr/local/lib/python3.10/dist-packages (from requests) (2.0.7)\n",
            "Requirement already satisfied: soupsieve>1.2 in /usr/local/lib/python3.10/dist-packages (from beautifulsoup4) (2.5)\n",
            "Requirement already satisfied: filelock in /usr/local/lib/python3.10/dist-packages (from transformers) (3.15.4)\n",
            "Requirement already satisfied: huggingface-hub<1.0,>=0.23.0 in /usr/local/lib/python3.10/dist-packages (from transformers) (0.23.4)\n",
            "Requirement already satisfied: numpy>=1.17 in /usr/local/lib/python3.10/dist-packages (from transformers) (1.25.2)\n",
            "Requirement already satisfied: packaging>=20.0 in /usr/local/lib/python3.10/dist-packages (from transformers) (24.1)\n",
            "Requirement already satisfied: pyyaml>=5.1 in /usr/local/lib/python3.10/dist-packages (from transformers) (6.0.1)\n",
            "Requirement already satisfied: regex!=2019.12.17 in /usr/local/lib/python3.10/dist-packages (from transformers) (2024.5.15)\n",
            "Requirement already satisfied: tokenizers<0.20,>=0.19 in /usr/local/lib/python3.10/dist-packages (from transformers) (0.19.1)\n",
            "Requirement already satisfied: safetensors>=0.4.1 in /usr/local/lib/python3.10/dist-packages (from transformers) (0.4.3)\n",
            "Requirement already satisfied: tqdm>=4.27 in /usr/local/lib/python3.10/dist-packages (from transformers) (4.66.4)\n",
            "Requirement already satisfied: typing-extensions>=4.8.0 in /usr/local/lib/python3.10/dist-packages (from torch) (4.12.2)\n",
            "Requirement already satisfied: sympy in /usr/local/lib/python3.10/dist-packages (from torch) (1.13.0)\n",
            "Requirement already satisfied: networkx in /usr/local/lib/python3.10/dist-packages (from torch) (3.3)\n",
            "Requirement already satisfied: jinja2 in /usr/local/lib/python3.10/dist-packages (from torch) (3.1.4)\n",
            "Requirement already satisfied: fsspec in /usr/local/lib/python3.10/dist-packages (from torch) (2023.6.0)\n",
            "Requirement already satisfied: nvidia-cuda-nvrtc-cu12==12.1.105 in /usr/local/lib/python3.10/dist-packages (from torch) (12.1.105)\n",
            "Requirement already satisfied: nvidia-cuda-runtime-cu12==12.1.105 in /usr/local/lib/python3.10/dist-packages (from torch) (12.1.105)\n",
            "Requirement already satisfied: nvidia-cuda-cupti-cu12==12.1.105 in /usr/local/lib/python3.10/dist-packages (from torch) (12.1.105)\n",
            "Requirement already satisfied: nvidia-cudnn-cu12==8.9.2.26 in /usr/local/lib/python3.10/dist-packages (from torch) (8.9.2.26)\n",
            "Requirement already satisfied: nvidia-cublas-cu12==12.1.3.1 in /usr/local/lib/python3.10/dist-packages (from torch) (12.1.3.1)\n",
            "Requirement already satisfied: nvidia-cufft-cu12==11.0.2.54 in /usr/local/lib/python3.10/dist-packages (from torch) (11.0.2.54)\n",
            "Requirement already satisfied: nvidia-curand-cu12==10.3.2.106 in /usr/local/lib/python3.10/dist-packages (from torch) (10.3.2.106)\n",
            "Requirement already satisfied: nvidia-cusolver-cu12==11.4.5.107 in /usr/local/lib/python3.10/dist-packages (from torch) (11.4.5.107)\n",
            "Requirement already satisfied: nvidia-cusparse-cu12==12.1.0.106 in /usr/local/lib/python3.10/dist-packages (from torch) (12.1.0.106)\n",
            "Requirement already satisfied: nvidia-nccl-cu12==2.20.5 in /usr/local/lib/python3.10/dist-packages (from torch) (2.20.5)\n",
            "Requirement already satisfied: nvidia-nvtx-cu12==12.1.105 in /usr/local/lib/python3.10/dist-packages (from torch) (12.1.105)\n",
            "Requirement already satisfied: triton==2.3.0 in /usr/local/lib/python3.10/dist-packages (from torch) (2.3.0)\n",
            "Requirement already satisfied: nvidia-nvjitlink-cu12 in /usr/local/lib/python3.10/dist-packages (from nvidia-cusolver-cu12==11.4.5.107->torch) (12.5.82)\n",
            "Requirement already satisfied: MarkupSafe>=2.0 in /usr/local/lib/python3.10/dist-packages (from jinja2->torch) (2.1.5)\n",
            "Requirement already satisfied: mpmath<1.4,>=1.1.0 in /usr/local/lib/python3.10/dist-packages (from sympy->torch) (1.3.0)\n"
          ]
        }
      ]
    },
    {
      "cell_type": "code",
      "execution_count": 12,
      "metadata": {
        "colab": {
          "base_uri": "https://localhost:8080/"
        },
        "id": "2daXr8HLFL6o",
        "outputId": "082a7376-4743-418d-f0cd-2197865ef495"
      },
      "outputs": [
        {
          "output_type": "stream",
          "name": "stdout",
          "text": [
            "Bot is ready to run. Use the run_bot() function to start it.\n",
            "The bot will run continuously until stopped.\n"
          ]
        }
      ],
      "source": [
        "import os\n",
        "import asyncio\n",
        "import aiohttp\n",
        "from telegram import Bot, ParseMode\n",
        "from telegram.error import TelegramError\n",
        "from bs4 import BeautifulSoup\n",
        "import logging\n",
        "from transformers import pipeline\n",
        "import nest_asyncio\n",
        "import random\n",
        "\n",
        "# Enable nested event loops (required for Colab)\n",
        "nest_asyncio.apply()\n",
        "\n",
        "# Configure logging\n",
        "logging.basicConfig(format='%(asctime)s - %(name)s - %(levelname)s - %(message)s', level=logging.INFO)\n",
        "logger = logging.getLogger(__name__)\n",
        "\n",
        "# Initialize the bot with your token\n",
        "TOKEN = \"6186938893:AAG2DC375_esINgx2LaHCTGxk8a1F67BlLs\"\n",
        "CHANNEL_ID = \"@archive_tvseries_persian_tvbot\"  # Replace with your channel username or ID\n",
        "\n",
        "# Initialize the summarization pipeline\n",
        "summarizer = pipeline(\"summarization\", model=\"facebook/bart-large-cnn\")\n",
        "\n",
        "# Store previously posted news to avoid duplicates\n",
        "posted_news = set()\n",
        "\n",
        "async def fetch_news(session, url, source_name, article_selector, title_selector, link_selector, description_selector):\n",
        "    \"\"\"Generic function to fetch news from various sources.\"\"\"\n",
        "    try:\n",
        "        async with session.get(url) as response:\n",
        "            if response.status == 200:\n",
        "                content = await response.text()\n",
        "                soup = BeautifulSoup(content, 'html.parser')\n",
        "                articles = soup.select(article_selector)\n",
        "\n",
        "                news_items = []\n",
        "                for article in articles[:5]:  # Limit to 5 news items\n",
        "                    try:\n",
        "                        title_element = article.select_one(title_selector)\n",
        "                        link_element = article.select_one(link_selector)\n",
        "                        description_element = article.select_one(description_selector)\n",
        "\n",
        "                        if title_element and link_element and description_element:\n",
        "                            title = title_element.text.strip()\n",
        "                            link = link_element['href']\n",
        "                            if not link.startswith('http'):\n",
        "                                link = url + link\n",
        "                            description = description_element.text.strip()\n",
        "                            news_items.append({'title': title, 'link': link, 'description': description, 'source': source_name})\n",
        "                        else:\n",
        "                            logger.warning(f\"Skipping an article from {source_name} due to missing elements\")\n",
        "                    except Exception as e:\n",
        "                        logger.warning(f\"Error processing an article from {source_name}: {str(e)}\")\n",
        "\n",
        "                return news_items\n",
        "            else:\n",
        "                logger.warning(f\"Failed to fetch news from {source_name}. Status code: {response.status}\")\n",
        "                return []\n",
        "    except Exception as e:\n",
        "        logger.error(f\"Error fetching news from {source_name}: {str(e)}\")\n",
        "        return []\n",
        "\n",
        "async def get_tv_series_news(session):\n",
        "    \"\"\"Fetch TV series news from multiple sources.\"\"\"\n",
        "    news_sources = [\n",
        "        (\"https://www.tvguide.com/news/\", \"TV Guide\", 'article.article-news', 'h3.article-title', 'a', 'p.article-description'),\n",
        "        (\"https://deadline.com/v/tv/\", \"Deadline\", 'article', 'h2.pmc-latest-news__headline', 'a', 'div.pmc-latest-news__description'),\n",
        "        (\"https://collider.com/tv/\", \"Collider\", 'article.article-card', 'h3.cs-title', 'a.cs-link', 'p.cs-excerpt'),\n",
        "        (\"https://tvline.com/\", \"TVLine\", 'article.entry-box', 'h2.entry-title', 'a', 'div.entry-content'),\n",
        "        (\"https://variety.com/v/tv/\", \"Variety\", 'div.c-title-list__item', 'h3', 'a', 'div.c-title-list__description'),\n",
        "        (\"https://www.hollywoodreporter.com/c/tv/\", \"The Hollywood Reporter\", 'div.card', 'h3.card__title', 'a.card__link', 'div.card__description')\n",
        "    ]\n",
        "\n",
        "    all_news = []\n",
        "    for source in news_sources:\n",
        "        news_items = await fetch_news(session, *source)\n",
        "        all_news.extend(news_items)\n",
        "        await asyncio.sleep(random.uniform(1, 3))  # Random delay between requests\n",
        "\n",
        "    return all_news\n",
        "\n",
        "def summarize_text(text, max_length=150):\n",
        "    \"\"\"Summarize the given text using the BART model.\"\"\"\n",
        "    summary = summarizer(text, max_length=max_length, min_length=50, do_sample=False)\n",
        "    return summary[0]['summary_text']\n",
        "\n",
        "async def format_message(news_item):\n",
        "    \"\"\"Format the news item into a visually appealing message.\"\"\"\n",
        "    title = f\"🎬 <b>{news_item['title']}</b>\"\n",
        "    summary = summarize_text(news_item['description'])\n",
        "    source = f\"Source: {news_item['source']}\"\n",
        "    message = f\"{title}\\n\\n{summary}\\n\\n{source}\\n\\n<a href='{news_item['link']}'>Read more</a>\"\n",
        "    return message\n",
        "\n",
        "async def send_message_to_channel(bot, message):\n",
        "    \"\"\"Send a formatted message to the channel.\"\"\"\n",
        "    try:\n",
        "        await bot.send_message(chat_id=CHANNEL_ID, text=message, parse_mode=ParseMode.HTML, disable_web_page_preview=True)\n",
        "        logger.info(f\"Message sent successfully: {message[:50]}...\")\n",
        "    except TelegramError as e:\n",
        "        logger.error(f\"Error sending message: {e}\")\n",
        "\n",
        "async def main():\n",
        "    bot = Bot(TOKEN)\n",
        "\n",
        "    async with aiohttp.ClientSession() as session:\n",
        "        while True:\n",
        "            try:\n",
        "                news_items = await get_tv_series_news(session)\n",
        "                for item in news_items:\n",
        "                    news_id = f\"{item['source']}_{item['title']}\"\n",
        "                    if news_id not in posted_news:\n",
        "                        formatted_message = await format_message(item)\n",
        "                        await send_message_to_channel(bot, formatted_message)\n",
        "                        posted_news.add(news_id)\n",
        "                        await asyncio.sleep(random.uniform(1, 2))  # Random delay between posts\n",
        "\n",
        "                # Wait for a short time before fetching news again\n",
        "                await asyncio.sleep(random.uniform(5, 10))\n",
        "            except Exception as e:\n",
        "                logger.error(f\"An error occurred in the main loop: {e}\")\n",
        "                await asyncio.sleep(30)  # Wait for 30 seconds before retrying\n",
        "\n",
        "# Function to start the bot\n",
        "def run_bot():\n",
        "    asyncio.run(main())\n",
        "\n",
        "print(\"Bot is ready to run. Use the run_bot() function to start it.\")\n",
        "print(\"The bot will run continuously until stopped.\")"
      ]
    },
    {
      "cell_type": "code",
      "source": [
        "run_bot()"
      ],
      "metadata": {
        "id": "uwunxKDtXHw7"
      },
      "execution_count": null,
      "outputs": []
    }
  ]
}